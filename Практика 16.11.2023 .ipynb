{
 "cells": [
  {
   "cell_type": "markdown",
   "metadata": {},
   "source": [
    "16.11.2023"
   ]
  },
  {
   "cell_type": "code",
   "execution_count": 2,
   "metadata": {},
   "outputs": [],
   "source": [
    "import matplotlib as mpl\n",
    "import matplotlib.pyplot as plt\n",
    "from mpl_toolkits.mplot3d.axes3d import Axes3D\n",
    "import numpy as np\n",
    "import sympy\n",
    "from sympy import diff\n",
    "import scipy.integrate as integrate\n",
    "import scipy.special as special\n",
    "from sympy import I, pi, oo"
   ]
  },
  {
   "cell_type": "code",
   "execution_count": 3,
   "metadata": {},
   "outputs": [
    {
     "name": "stdout",
     "output_type": "stream",
     "text": [
      "Pi:\n",
      "[[0.16 0.12 0.08]\n",
      " [0.28 0.11 0.25]]\n",
      "F(X,Y):\n",
      "[[0.   0.   0.   0.  ]\n",
      " [0.   0.16 0.28 0.36]\n",
      " [0.   0.44 0.67 1.  ]]\n"
     ]
    }
   ],
   "source": [
    "Pi = np.array ([[0.16, 0.12, 0.08], [0.28, 0.11, 0.25]])\n",
    "print(\"Pi:\", Pi, sep='\\n')\n",
    "\n",
    "a = np.sum (Pi[:,0])\n",
    "b = np.sum (Pi[:,1])\n",
    "c = np.sum (Pi[:,2])\n",
    "\n",
    "d = np.sum (Pi[0,:])\n",
    "e = np.sum (Pi[1,:])\n",
    "\n",
    "x = np.array ([1,2]) \n",
    "pi1 = np.array ([d,e]) \n",
    "\n",
    "y = np.array ([1,2,3]) \n",
    "pi2 = np.array ([a,b,c]) \n",
    "\n",
    "m1 = np.array ([x,pi1]) \n",
    "m2 = np.array ([y,pi2]) \n",
    "#print (m1, m2, sep = ('\\n'))\n",
    "\n",
    "\"\"\"f = np.array ([0,0,0,0]) #x<1\n",
    "g = np.array ([0, 0.16, 0.28, 0.36])\n",
    "h = np.array ([0, 0.44, 0.67, 1])\"\"\"\n",
    "\n",
    "m3 = np.array ([[0,0,0,0], [0, 0.16, 0.28, 0.36], [0, 0.44, 0.67, 1]]) #F(X,Y)\n",
    "print (\"F(X,Y):\", m3, sep='\\n')"
   ]
  },
  {
   "cell_type": "markdown",
   "metadata": {},
   "source": [
    "Матожидание"
   ]
  },
  {
   "cell_type": "code",
   "execution_count": 4,
   "metadata": {},
   "outputs": [
    {
     "name": "stdout",
     "output_type": "stream",
     "text": [
      "матожидание M(X): 1.6400000000000001\n",
      "матожидание M(Y): 1.8900000000000001\n"
     ]
    }
   ],
   "source": [
    "x1i = 1 * Pi[0,:]\n",
    "x2i = 2 * Pi[1,:]\n",
    "\n",
    "mX = sum (x1i + x2i)\n",
    "print (\"матожидание M(X):\", mX)\n",
    "\n",
    "yj1 = 1 * Pi[:,0]\n",
    "yj2 = 2 * Pi[:,1]\n",
    "yj3 = 3 * Pi[:,2]\n",
    "\n",
    "mY = sum (yj1 + yj2 + yj3)\n",
    "print (\"матожидание M(Y):\", mY)"
   ]
  },
  {
   "cell_type": "markdown",
   "metadata": {},
   "source": [
    "Дисперсия"
   ]
  },
  {
   "cell_type": "code",
   "execution_count": 5,
   "metadata": {},
   "outputs": [
    {
     "name": "stdout",
     "output_type": "stream",
     "text": [
      "дисперсия Dx: 0.2304\n",
      "дисперсия Dy: 0.7579000000000001\n"
     ]
    }
   ],
   "source": [
    "x1i1 = (1 - mX)**2*Pi[0,:]\n",
    "x2i1 = (2 - mX)**2*Pi[1,:]\n",
    "\n",
    "Dx = sum(x1i1+x2i1)\n",
    "print (\"дисперсия Dx:\", Dx)\n",
    "\n",
    "y1i1 = (1 - mY)**2*Pi[:,0]\n",
    "y2i1 = (2 - mY)**2*Pi[:,1]\n",
    "y3i1 = (3 - mY)**2*Pi[:,2]\n",
    "\n",
    "Dy = sum(y1i1+y2i1+y3i1)\n",
    "print (\"дисперсия Dy:\", Dy)"
   ]
  },
  {
   "cell_type": "markdown",
   "metadata": {},
   "source": [
    "Корреляционный момент"
   ]
  },
  {
   "cell_type": "code",
   "execution_count": 6,
   "metadata": {},
   "outputs": [
    {
     "name": "stdout",
     "output_type": "stream",
     "text": [
      "корреляционный момент Kxy: 0.04040000000000001\n"
     ]
    }
   ],
   "source": [
    "x1y1 = (1 - mX)*(1 - mY)*Pi[0,0]\n",
    "x1y2 = (1 - mX)*(2 - mY)*Pi[0,1]\n",
    "x1y3 = (1 - mX)*(3 - mY)*Pi[0,2]\n",
    "x2y1 = (2 - mX)*(1 - mY)*Pi[1,0]\n",
    "x2y2 = (2 - mX)*(2 - mY)*Pi[1,1]\n",
    "x2y3 = (2 - mX)*(3 - mY)*Pi[1,2]\n",
    "\n",
    "mat = np.array ([x1y1, x1y2, x1y3, x2y1, x2y2, x2y3])\n",
    "\n",
    "Kxy = sum(mat)\n",
    "print (\"корреляционный момент Kxy:\", Kxy)"
   ]
  },
  {
   "cell_type": "code",
   "execution_count": 37,
   "metadata": {},
   "outputs": [
    {
     "data": {
      "text/plain": [
       "array([1, 2, 3])"
      ]
     },
     "execution_count": 37,
     "metadata": {},
     "output_type": "execute_result"
    }
   ],
   "source": [
    "matx = np.array ([1,2])\n",
    "maty = np.array ([1,2,3])\n",
    "matyt = np.transpose (maty)\n",
    "matyt\n",
    "\n",
    "\"\"\"matyt = np.transpose (maty)\n",
    "\n",
    "matx1 = matx - mX\n",
    "print (matx1)\n",
    "maty1 = maty - mY\n",
    "print (maty1)\n",
    "a = np.dot (maty1,matx1)\n",
    "a\"\"\"\n",
    "\n",
    "#a = np.dot (maty, matx)\n",
    "\n",
    "matyt"
   ]
  },
  {
   "cell_type": "markdown",
   "metadata": {},
   "source": [
    "Коэффициент корреляции"
   ]
  },
  {
   "cell_type": "code",
   "execution_count": 8,
   "metadata": {},
   "outputs": [
    {
     "data": {
      "text/plain": [
       "array([0.078])"
      ]
     },
     "execution_count": 8,
     "metadata": {},
     "output_type": "execute_result"
    }
   ],
   "source": [
    "x = np.array ([0.16, 0.12, 0.08])\n",
    "y = np.array ([0.28, 0.11, 0.25])\n",
    "rxy = np.correlate(x,y,)\n",
    "rxy #перепроверить, должно быть 0,097"
   ]
  },
  {
   "cell_type": "markdown",
   "metadata": {},
   "source": [
    "#Задание\n",
    "Построить полигон частот"
   ]
  },
  {
   "cell_type": "code",
   "execution_count": 9,
   "metadata": {},
   "outputs": [
    {
     "data": {
      "text/plain": [
       "array([0.4 , 0.2 , 0.28, 0.12])"
      ]
     },
     "execution_count": 9,
     "metadata": {},
     "output_type": "execute_result"
    }
   ],
   "source": [
    "xi = np.array ([1, 4, 5, 7])\n",
    "ni = np.array ([20, 10, 14, 6])\n",
    "nsum = sum (ni)\n",
    "wi = ni/nsum\n",
    "wi"
   ]
  },
  {
   "cell_type": "code",
   "execution_count": 10,
   "metadata": {},
   "outputs": [
    {
     "data": {
      "text/plain": [
       "[<matplotlib.lines.Line2D at 0x10f8af710>]"
      ]
     },
     "execution_count": 10,
     "metadata": {},
     "output_type": "execute_result"
    },
    {
     "data": {
      "image/png": "[encoded data removed]",
      "text/plain": [
       "<Figure size 640x480 with 1 Axes>"
      ]
     },
     "metadata": {},
     "output_type": "display_data"
    }
   ],
   "source": [
    "xi = np.array ([1, 4, 5, 7])\n",
    "ni = np.array ([20, 10, 14, 6])\n",
    "plt.title(\"Полигон частот\") \n",
    "plt.xlabel(\"xi\") \n",
    "plt.ylabel(\"ni\") \n",
    "plt.grid()\n",
    "plt.plot(xi, ni, color=\"blue\")"
   ]
  },
  {
   "cell_type": "code",
   "execution_count": 11,
   "metadata": {},
   "outputs": [
    {
     "data": {
      "text/plain": [
       "[<matplotlib.lines.Line2D at 0x112898310>]"
      ]
     },
     "execution_count": 11,
     "metadata": {},
     "output_type": "execute_result"
    },
    {
     "data": {
      "image/png": "[encoded data removed]",
      "text/plain": [
       "<Figure size 640x480 with 1 Axes>"
      ]
     },
     "metadata": {},
     "output_type": "display_data"
    }
   ],
   "source": [
    "plt.title(\"Полигон относительных частот\") # заголовок\n",
    "plt.xlabel(\"xi\") # ось абсцисс\n",
    "plt.ylabel(\"wi\") # ось ординат\n",
    "plt.grid()      # включение отображение сетки\n",
    "plt.plot(xi, wi, color=\"red\")  # построение графика"
   ]
  },
  {
   "cell_type": "markdown",
   "metadata": {},
   "source": [
    "#Задание Построить гистограмму частот по распределению выборки"
   ]
  },
  {
   "cell_type": "code",
   "execution_count": 12,
   "metadata": {},
   "outputs": [
    {
     "data": {
      "text/plain": [
       "<BarContainer object of 5 artists>"
      ]
     },
     "execution_count": 12,
     "metadata": {},
     "output_type": "execute_result"
    },
    {
     "data": {
      "image/png": "[encoded data removed]",
      "text/plain": [
       "<Figure size 640x480 with 1 Axes>"
      ]
     },
     "metadata": {},
     "output_type": "display_data"
    }
   ],
   "source": [
    "import numpy as np\n",
    "import matplotlib.pyplot as plt\n",
    "\n",
    "n = 100\n",
    "num = np.array([1,5,9,13,17])\n",
    "ni = np.array ([10,20,50,12,8])\n",
    "ni1 = np.array ([2.5, 5, 12.5, 3, 2]) #ni/h\n",
    "h = sum(ni/ni1)/len(ni/ni1) #конкретное число h из выражения ni/h\n",
    "num1 = num + h/2 #сдвинутые значения \"х\"\n",
    "plt.bar(num1, ni1, bottom = 1, width = h, edgecolor = 'r')\n"
   ]
  },
  {
   "cell_type": "markdown",
   "metadata": {},
   "source": [
    "#Задание Сгенерировать случайную выборку"
   ]
  },
  {
   "cell_type": "code",
   "execution_count": 13,
   "metadata": {},
   "outputs": [
    {
     "data": {
      "text/plain": [
       "(array([ 3.,  8., 11., 24., 20., 16., 15.,  1.,  1.,  1.]),\n",
       " array([-2618.68751834, -2023.53062127, -1428.37372419,  -833.21682711,\n",
       "         -238.05993003,   357.09696704,   952.25386412,  1547.4107612 ,\n",
       "         2142.56765828,  2737.72455535,  3332.88145243]),\n",
       " <BarContainer object of 10 artists>)"
      ]
     },
     "execution_count": 13,
     "metadata": {},
     "output_type": "execute_result"
    },
    {
     "data": {
      "image/png": "[encoded data removed]",
      "text/plain": [
       "<Figure size 640x480 with 1 Axes>"
      ]
     },
     "metadata": {},
     "output_type": "display_data"
    }
   ],
   "source": [
    "data = np.random.normal(0,1000,100)\n",
    "\n",
    "mean = np.mean(data)\n",
    "std = np.std(data)\n",
    "median = np.median (data)\n",
    "\n",
    "plt.hist (data, color = \"green\", bins=10)"
   ]
  }
 ],
 "metadata": {
  "kernelspec": {
   "display_name": "base",
   "language": "python",
   "name": "python3"
  },
  "language_info": {
   "codemirror_mode": {
    "name": "ipython",
    "version": 3
   },
   "file_extension": ".py",
   "mimetype": "text/x-python",
   "name": "python",
   "nbconvert_exporter": "python",
   "pygments_lexer": "ipython3",
   "version": "3.11.5"
  },
  "orig_nbformat": 4
 },
 "nbformat": 4,
 "nbformat_minor": 2
}
