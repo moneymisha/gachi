{
 "cells": [
  {
   "cell_type": "code",
   "execution_count": 3,
   "metadata": {},
   "outputs": [],
   "source": [
    "import matplotlib as mpl\n",
    "import matplotlib.pyplot as plt\n",
    "from mpl_toolkits.mplot3d.axes3d import Axes3D\n",
    "import numpy as np\n",
    "import sympy\n",
    "from sympy import diff\n",
    "import matplotlib.pyplot as plt\n",
    "import scipy.integrate as integrate\n",
    "import scipy.special as special\n",
    "from sympy import I, pi, oo"
   ]
  },
  {
   "cell_type": "markdown",
   "metadata": {},
   "source": [
    "![Alt text](image-4.png)"
   ]
  },
  {
   "cell_type": "code",
   "execution_count": 4,
   "metadata": {},
   "outputs": [],
   "source": [
    "m1 = 210\n",
    "m2 = 230\n",
    "n = 300\n",
    "q = 0.25\n",
    "p = 0.75\n",
    "x1 = (m1-n*p)/(((n*p*q)**(0.5)))\n",
    "x2 = (m2-n*p)/(((n*p*q)**(0.5)))"
   ]
  },
  {
   "cell_type": "code",
   "execution_count": 5,
   "metadata": {},
   "outputs": [
    {
     "data": {
      "text/plain": [
       "-0.4772498680518208"
      ]
     },
     "execution_count": 5,
     "metadata": {},
     "output_type": "execute_result"
    }
   ],
   "source": [
    "F01 = 0.5*special.erf(x1/(2)**0.5)\n",
    "F01"
   ]
  },
  {
   "cell_type": "code",
   "execution_count": 6,
   "metadata": {},
   "outputs": [
    {
     "data": {
      "text/plain": [
       "0.24750746245307703"
      ]
     },
     "execution_count": 6,
     "metadata": {},
     "output_type": "execute_result"
    }
   ],
   "source": [
    "F02 = 0.5*special.erf(x2/(2)**0.5)\n",
    "F02"
   ]
  },
  {
   "cell_type": "code",
   "execution_count": 7,
   "metadata": {},
   "outputs": [
    {
     "name": "stdout",
     "output_type": "stream",
     "text": [
      "Вероятность будет равна: 0.7247573305048978\n"
     ]
    }
   ],
   "source": [
    "P = F02 - (F01)\n",
    "print(\"Вероятность будет равна:\", P)"
   ]
  },
  {
   "cell_type": "markdown",
   "metadata": {},
   "source": [
    "![Alt text](image-2.png)"
   ]
  },
  {
   "cell_type": "code",
   "execution_count": 8,
   "metadata": {},
   "outputs": [
    {
     "name": "stdout",
     "output_type": "stream",
     "text": [
      "Ряд распределения случайных величин при y=2x:\n",
      "[[-4.   -2.    2.    4.    6.  ]\n",
      " [ 0.2   0.25  0.3   0.15  0.1 ]]\n"
     ]
    }
   ],
   "source": [
    "x = np.array ([-2,-1,1,2,3])\n",
    "pi = np.array ([0.2, 0.25, 0.3, 0.15, 0.1])\n",
    "x2 = 2*x\n",
    "for i in pi:\n",
    "    if sum (pi) == 1:\n",
    "        print(\"Ряд распределения случайных величин при y=2x:\", np.array ([x2, pi]), sep='\\n')\n",
    "        break\n",
    "else :\n",
    "    print (\"ошибка, перепроверьте данные\")"
   ]
  },
  {
   "cell_type": "code",
   "execution_count": 9,
   "metadata": {},
   "outputs": [],
   "source": [
    "y2 = x**2 #сделать"
   ]
  },
  {
   "cell_type": "markdown",
   "metadata": {},
   "source": [
    "![Alt text](image-3.png)"
   ]
  },
  {
   "cell_type": "code",
   "execution_count": 10,
   "metadata": {},
   "outputs": [],
   "source": [
    "х = np.array ([1,2,3])\n",
    "px = np.array ([0.3, 0.5, 0.2])\n",
    "\n",
    "y = np.array ([-2,1])\n",
    "py = np.array ([0.4, 0.6])\n",
    "#сделать"
   ]
  },
  {
   "cell_type": "code",
   "execution_count": null,
   "metadata": {},
   "outputs": [],
   "source": []
  },
  {
   "cell_type": "markdown",
   "metadata": {},
   "source": [
    "![Alt text](image-1.png)"
   ]
  },
  {
   "cell_type": "code",
   "execution_count": 11,
   "metadata": {},
   "outputs": [],
   "source": [
    "xi = np.array ([-2, -1, 0, 1, 2, 3])\n",
    "pi = np.array ([0.1, 0.2, 0.25, 0.15, 0.1, 0.2])"
   ]
  },
  {
   "cell_type": "markdown",
   "metadata": {},
   "source": [
    "Найдём M(X),D(X)"
   ]
  },
  {
   "cell_type": "code",
   "execution_count": 12,
   "metadata": {},
   "outputs": [
    {
     "name": "stdout",
     "output_type": "stream",
     "text": [
      "M(X): 0.55\n",
      "D(X): 2.6475\n"
     ]
    }
   ],
   "source": [
    "m = xi*pi\n",
    "M = sum(m)\n",
    "print (\"M(X):\",M)\n",
    "\n",
    "a = M #параметр a\n",
    "\n",
    "#сделать циклом\n",
    "\n",
    "xi2 = np.array ([0, 1, 4, 9]) #массив х^2\n",
    "pi2 = np.array ([0.25, 0.35, 0.2, 0.2]) #вероятность x^2\n",
    "\n",
    "Dx = sum (xi2*pi2) - a**2 #дисперсия \n",
    "print (\"D(X):\",Dx) \n"
   ]
  },
  {
   "cell_type": "markdown",
   "metadata": {},
   "source": [
    "Найдём М(-2), D(-2)"
   ]
  },
  {
   "cell_type": "code",
   "execution_count": 13,
   "metadata": {},
   "outputs": [
    {
     "name": "stdout",
     "output_type": "stream",
     "text": [
      "M(-2X): -1.1\n"
     ]
    },
    {
     "data": {
      "text/plain": [
       "11.4975"
      ]
     },
     "execution_count": 13,
     "metadata": {},
     "output_type": "execute_result"
    }
   ],
   "source": [
    "m2 = ((-2)*xi)*pi\n",
    "\n",
    "M2 = sum(m2)\n",
    "print (\"M(-2X):\",M2)\n",
    "\n",
    "b = np.array([0, 4, 16, 36]) #массив (-2x)^2\n",
    "pi2 = np.array ([0.25, 0.35, 0.2, 0.2]) #вероятность (-2x)^2\n",
    "\n",
    "Dx1 = sum (b*pi2) - a**2 #дисперсия (-2x)\n",
    "\n",
    "Dx1"
   ]
  },
  {
   "cell_type": "markdown",
   "metadata": {},
   "source": [
    "Интегралы"
   ]
  },
  {
   "cell_type": "code",
   "execution_count": 14,
   "metadata": {},
   "outputs": [
    {
     "data": {
      "text/latex": [
       "$\\displaystyle \\int f{\\left(x \\right)}\\, dx$"
      ],
      "text/plain": [
       "Integral(f(x), x)"
      ]
     },
     "execution_count": 14,
     "metadata": {},
     "output_type": "execute_result"
    }
   ],
   "source": [
    "a, b, x, y = sympy.symbols(\"a, b, x, y\")\n",
    "f = sympy.Function(\"f\")(x)\n",
    "sympy.integrate (f)"
   ]
  },
  {
   "cell_type": "code",
   "execution_count": 15,
   "metadata": {},
   "outputs": [
    {
     "data": {
      "text/latex": [
       "$\\displaystyle \\int\\limits_{a}^{b} f{\\left(x \\right)}\\, dx$"
      ],
      "text/plain": [
       "Integral(f(x), (x, a, b))"
      ]
     },
     "execution_count": 15,
     "metadata": {},
     "output_type": "execute_result"
    }
   ],
   "source": [
    "sympy.integrate (f, (x, a, b))"
   ]
  },
  {
   "cell_type": "code",
   "execution_count": 16,
   "metadata": {},
   "outputs": [
    {
     "data": {
      "text/latex": [
       "$\\displaystyle \\frac{\\sqrt{\\pi}}{2}$"
      ],
      "text/plain": [
       "sqrt(pi)/2"
      ]
     },
     "execution_count": 16,
     "metadata": {},
     "output_type": "execute_result"
    }
   ],
   "source": [
    "sympy.integrate (sympy.exp(-x**2), (x, 0, oo))"
   ]
  },
  {
   "cell_type": "markdown",
   "metadata": {},
   "source": [
    "![Alt text](image-5.png)"
   ]
  },
  {
   "cell_type": "code",
   "execution_count": 19,
   "metadata": {},
   "outputs": [
    {
     "data": {
      "text/latex": [
       "$\\displaystyle 0.5$"
      ],
      "text/plain": [
       "0.500000000000000"
      ]
     },
     "execution_count": 19,
     "metadata": {},
     "output_type": "execute_result"
    }
   ],
   "source": [
    "f = (3/36)*(x-3)**2\n",
    "Mx = sympy.integrate ((f*x), (x, 0, 2))\n",
    "Mx"
   ]
  }
 ],
 "metadata": {
  "kernelspec": {
   "display_name": "Python 3 (ipykernel)",
   "language": "python",
   "name": "python3"
  },
  "language_info": {
   "codemirror_mode": {
    "name": "ipython",
    "version": 3
   },
   "file_extension": ".py",
   "mimetype": "text/x-python",
   "name": "python",
   "nbconvert_exporter": "python",
   "pygments_lexer": "ipython3",
   "version": "3.11.5"
  }
 },
 "nbformat": 4,
 "nbformat_minor": 2
}
