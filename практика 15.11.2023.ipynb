{
 "cells": [
  {
   "cell_type": "code",
   "execution_count": 2,
   "metadata": {},
   "outputs": [],
   "source": [
    "import matplotlib as mpl\n",
    "import matplotlib.pyplot as plt\n",
    "from mpl_toolkits.mplot3d.axes3d import Axes3D\n",
    "import numpy as np\n",
    "import sympy\n",
    "from sympy import diff\n",
    "import matplotlib.pyplot as plt\n",
    "import scipy.integrate as integrate\n",
    "import scipy.special as special\n",
    "from sympy import I, pi, oo"
   ]
  },
  {
   "cell_type": "markdown",
   "metadata": {},
   "source": [
    "![Alt text](image-4.png)"
   ]
  },
  {
   "cell_type": "code",
   "execution_count": 3,
   "metadata": {},
   "outputs": [],
   "source": [
    "m1 = 210\n",
    "m2 = 230\n",
    "n = 300\n",
    "q = 0.25\n",
    "p = 0.75\n",
    "x1 = (m1-n*p)/(((n*p*q)**(0.5)))\n",
    "x2 = (m2-n*p)/(((n*p*q)**(0.5)))"
   ]
  },
  {
   "cell_type": "code",
   "execution_count": 4,
   "metadata": {},
   "outputs": [
    {
     "data": {
      "text/plain": [
       "-0.4772498680518208"
      ]
     },
     "execution_count": 4,
     "metadata": {},
     "output_type": "execute_result"
    }
   ],
   "source": [
    "F01 = 0.5*special.erf(x1/(2)**0.5)\n",
    "F01"
   ]
  },
  {
   "cell_type": "code",
   "execution_count": 5,
   "metadata": {},
   "outputs": [
    {
     "data": {
      "text/plain": [
       "0.24750746245307703"
      ]
     },
     "execution_count": 5,
     "metadata": {},
     "output_type": "execute_result"
    }
   ],
   "source": [
    "F02 = 0.5*special.erf(x2/(2)**0.5)\n",
    "F02"
   ]
  },
  {
   "cell_type": "code",
   "execution_count": 58,
   "metadata": {},
   "outputs": [
    {
     "name": "stdout",
     "output_type": "stream",
     "text": [
      "Вероятность будет равна: 0.7247573305048978\n"
     ]
    }
   ],
   "source": [
    "P = F02 - (F01)\n",
    "print(\"Вероятность будет равна:\", P)"
   ]
  },
  {
   "cell_type": "markdown",
   "metadata": {},
   "source": [
    "![Alt text](image-2.png)"
   ]
  },
  {
   "cell_type": "code",
   "execution_count": 56,
   "metadata": {},
   "outputs": [
    {
     "name": "stdout",
     "output_type": "stream",
     "text": [
      "Ряд распределения случайных величин при y=2x:\n",
      "[[-4.   -2.    2.    4.    6.  ]\n",
      " [ 0.2   0.25  0.3   0.15  0.1 ]]\n"
     ]
    }
   ],
   "source": [
    "x = np.array ([-2,-1,1,2,3])\n",
    "pi = np.array ([0.2, 0.25, 0.3, 0.15, 0.1])\n",
    "x2 = 2*x\n",
    "for i in pi:\n",
    "    if sum (pi) == 1:\n",
    "        print(\"Ряд распределения случайных величин при y=2x:\", np.array ([x2, pi]), sep='\\n')\n",
    "        break\n",
    "else :\n",
    "    print (\"ошибка, перепроверьте данные\")"
   ]
  },
  {
   "cell_type": "code",
   "execution_count": null,
   "metadata": {},
   "outputs": [],
   "source": [
    "y2 = x**2 #сделать"
   ]
  },
  {
   "cell_type": "markdown",
   "metadata": {},
   "source": [
    "![Alt text](image-3.png)"
   ]
  },
  {
   "cell_type": "code",
   "execution_count": null,
   "metadata": {},
   "outputs": [],
   "source": [
    "х = np.array ([1,2,3])\n",
    "px = np.array ([0.3, 0.5, 0.2])\n",
    "\n",
    "y = np.array ([-2,1])\n",
    "py = np.array ([0.4, 0.6])\n",
    "#сделать"
   ]
  },
  {
   "cell_type": "code",
   "execution_count": null,
   "metadata": {},
   "outputs": [],
   "source": []
  },
  {
   "cell_type": "markdown",
   "metadata": {},
   "source": [
    "![Alt text](image-1.png)"
   ]
  },
  {
   "cell_type": "code",
   "execution_count": null,
   "metadata": {},
   "outputs": [],
   "source": [
    "xi = np.array ([-2, -1, 0, 1, 2, 3])\n",
    "pi = np.array ([0.1, 0.2, 0.25, 0.15, 0.1, 0.2])"
   ]
  },
  {
   "cell_type": "markdown",
   "metadata": {},
   "source": [
    "Найдём M(X),D(X)"
   ]
  },
  {
   "cell_type": "code",
   "execution_count": null,
   "metadata": {},
   "outputs": [
    {
     "name": "stdout",
     "output_type": "stream",
     "text": [
      "M(X): 0.55\n",
      "D(X): 2.6475\n"
     ]
    }
   ],
   "source": [
    "m = xi*pi\n",
    "M = sum(m)\n",
    "print (\"M(X):\",M)\n",
    "\n",
    "a = M #параметр a\n",
    "\n",
    "#сделать циклом\n",
    "\n",
    "xi2 = np.array ([0, 1, 4, 9]) #массив х^2\n",
    "pi2 = np.array ([0.25, 0.35, 0.2, 0.2]) #вероятность x^2\n",
    "\n",
    "Dx = sum (xi2*pi2) - a**2 #дисперсия \n",
    "print (\"D(X):\",Dx) \n"
   ]
  },
  {
   "cell_type": "markdown",
   "metadata": {},
   "source": [
    "Найдём М(-2), D(-2)"
   ]
  },
  {
   "cell_type": "code",
   "execution_count": null,
   "metadata": {},
   "outputs": [
    {
     "name": "stdout",
     "output_type": "stream",
     "text": [
      "M(-2X): -1.1\n"
     ]
    },
    {
     "data": {
      "text/plain": [
       "11.4975"
      ]
     },
     "execution_count": 73,
     "metadata": {},
     "output_type": "execute_result"
    }
   ],
   "source": [
    "m2 = ((-2)*xi)*pi\n",
    "\n",
    "M2 = sum(m2)\n",
    "print (\"M(-2X):\",M2)\n",
    "\n",
    "b = np.array([0, 4, 16, 36]) #массив (-2x)^2\n",
    "pi2 = np.array ([0.25, 0.35, 0.2, 0.2]) #вероятность (-2x)^2\n",
    "\n",
    "Dx1 = sum (b*pi2) - a**2 #дисперсия (-2x)\n",
    "\n",
    "Dx1"
   ]
  },
  {
   "cell_type": "markdown",
   "metadata": {},
   "source": [
    "Интегралы"
   ]
  },
  {
   "cell_type": "code",
   "execution_count": null,
   "metadata": {},
   "outputs": [
    {
     "data": {
      "text/latex": [
       "$\\displaystyle \\int f{\\left(x \\right)}\\, dx$"
      ],
      "text/plain": [
       "Integral(f(x), x)"
      ]
     },
     "execution_count": 74,
     "metadata": {},
     "output_type": "execute_result"
    }
   ],
   "source": [
    "a, b, x, y = sympy.symbols(\"a, b, x, y\")\n",
    "f = sympy.Function(\"f\")(x)\n",
    "sympy.integrate (f)"
   ]
  },
  {
   "cell_type": "code",
   "execution_count": null,
   "metadata": {},
   "outputs": [
    {
     "data": {
      "text/latex": [
       "$\\displaystyle \\int\\limits_{a}^{b} f{\\left(x \\right)}\\, dx$"
      ],
      "text/plain": [
       "Integral(f(x), (x, a, b))"
      ]
     },
     "execution_count": 80,
     "metadata": {},
     "output_type": "execute_result"
    }
   ],
   "source": [
    "sympy.integrate (f, (x, a, b))"
   ]
  },
  {
   "cell_type": "code",
   "execution_count": null,
   "metadata": {},
   "outputs": [
    {
     "data": {
      "text/latex": [
       "$\\displaystyle \\frac{\\sqrt{\\pi}}{2}$"
      ],
      "text/plain": [
       "sqrt(pi)/2"
      ]
     },
     "execution_count": 81,
     "metadata": {},
     "output_type": "execute_result"
    }
   ],
   "source": [
    "sympy.integrate (sympy.exp(-x**2), (x, 0, oo))"
   ]
  },
  {
   "cell_type": "markdown",
   "metadata": {},
   "source": [
    "![Alt text](image-5.png)"
   ]
  },
  {
   "cell_type": "code",
   "execution_count": 67,
   "metadata": {},
   "outputs": [
    {
     "ename": "ValueError",
     "evalue": "Invalid limits given: ((array([-2, -1,  1,  2,  3]), 0, 2),)",
     "output_type": "error",
     "traceback": [
      "\u001b[0;31m---------------------------------------------------------------------------\u001b[0m",
      "\u001b[0;31mValueError\u001b[0m                                Traceback (most recent call last)",
      "\u001b[1;32m/Users/mihailageev/Desktop/практика 15.11.2023.ipynb Ячейка 24\u001b[0m line \u001b[0;36m2\n\u001b[1;32m      <a href='vscode-notebook-cell:/Users/mihailageev/Desktop/%D0%BF%D1%80%D0%B0%D0%BA%D1%82%D0%B8%D0%BA%D0%B0%2015.11.2023.ipynb#X36sZmlsZQ%3D%3D?line=0'>1</a>\u001b[0m f \u001b[39m=\u001b[39m (\u001b[39m3\u001b[39m\u001b[39m/\u001b[39m\u001b[39m36\u001b[39m)\u001b[39m*\u001b[39m(x\u001b[39m-\u001b[39m\u001b[39m3\u001b[39m)\u001b[39m*\u001b[39m\u001b[39m*\u001b[39m\u001b[39m2\u001b[39m\n\u001b[0;32m----> <a href='vscode-notebook-cell:/Users/mihailageev/Desktop/%D0%BF%D1%80%D0%B0%D0%BA%D1%82%D0%B8%D0%BA%D0%B0%2015.11.2023.ipynb#X36sZmlsZQ%3D%3D?line=1'>2</a>\u001b[0m Mx \u001b[39m=\u001b[39m sympy\u001b[39m.\u001b[39mintegrate (f\u001b[39m*\u001b[39mx, (x, \u001b[39m0\u001b[39m, \u001b[39m2\u001b[39m))\n\u001b[1;32m      <a href='vscode-notebook-cell:/Users/mihailageev/Desktop/%D0%BF%D1%80%D0%B0%D0%BA%D1%82%D0%B8%D0%BA%D0%B0%2015.11.2023.ipynb#X36sZmlsZQ%3D%3D?line=2'>3</a>\u001b[0m Mx\n",
      "File \u001b[0;32m~/anaconda3/lib/python3.11/site-packages/sympy/integrals/integrals.py:1564\u001b[0m, in \u001b[0;36mintegrate\u001b[0;34m(meijerg, conds, risch, heurisch, manual, *args, **kwargs)\u001b[0m\n\u001b[1;32m   1400\u001b[0m \u001b[39m\u001b[39m\u001b[39m\"\"\"integrate(f, var, ...)\u001b[39;00m\n\u001b[1;32m   1401\u001b[0m \n\u001b[1;32m   1402\u001b[0m \u001b[39m.. deprecated:: 1.6\u001b[39;00m\n\u001b[0;32m   (...)\u001b[0m\n\u001b[1;32m   1554\u001b[0m \n\u001b[1;32m   1555\u001b[0m \u001b[39m\"\"\"\u001b[39;00m\n\u001b[1;32m   1556\u001b[0m doit_flags \u001b[39m=\u001b[39m {\n\u001b[1;32m   1557\u001b[0m     \u001b[39m'\u001b[39m\u001b[39mdeep\u001b[39m\u001b[39m'\u001b[39m: \u001b[39mFalse\u001b[39;00m,\n\u001b[1;32m   1558\u001b[0m     \u001b[39m'\u001b[39m\u001b[39mmeijerg\u001b[39m\u001b[39m'\u001b[39m: meijerg,\n\u001b[0;32m   (...)\u001b[0m\n\u001b[1;32m   1562\u001b[0m     \u001b[39m'\u001b[39m\u001b[39mmanual\u001b[39m\u001b[39m'\u001b[39m: manual\n\u001b[1;32m   1563\u001b[0m     }\n\u001b[0;32m-> 1564\u001b[0m integral \u001b[39m=\u001b[39m Integral(\u001b[39m*\u001b[39margs, \u001b[39m*\u001b[39m\u001b[39m*\u001b[39mkwargs)\n\u001b[1;32m   1566\u001b[0m \u001b[39mif\u001b[39;00m \u001b[39misinstance\u001b[39m(integral, Integral):\n\u001b[1;32m   1567\u001b[0m     \u001b[39mreturn\u001b[39;00m integral\u001b[39m.\u001b[39mdoit(\u001b[39m*\u001b[39m\u001b[39m*\u001b[39mdoit_flags)\n",
      "File \u001b[0;32m~/anaconda3/lib/python3.11/site-packages/sympy/integrals/integrals.py:96\u001b[0m, in \u001b[0;36mIntegral.__new__\u001b[0;34m(cls, function, *symbols, **assumptions)\u001b[0m\n\u001b[1;32m     86\u001b[0m \u001b[39mif\u001b[39;00m \u001b[39misinstance\u001b[39m(function, Poly):\n\u001b[1;32m     87\u001b[0m     sympy_deprecation_warning(\n\u001b[1;32m     88\u001b[0m \u001b[39m        \u001b[39m\u001b[39m\"\"\"\u001b[39;00m\n\u001b[1;32m     89\u001b[0m \u001b[39m        integrate(Poly) and Integral(Poly) are deprecated. Instead,\u001b[39;00m\n\u001b[0;32m   (...)\u001b[0m\n\u001b[1;32m     93\u001b[0m         deprecated_since_version\u001b[39m=\u001b[39m\u001b[39m\"\u001b[39m\u001b[39m1.6\u001b[39m\u001b[39m\"\u001b[39m,\n\u001b[1;32m     94\u001b[0m         active_deprecations_target\u001b[39m=\u001b[39m\u001b[39m\"\u001b[39m\u001b[39mdeprecated-integrate-poly\u001b[39m\u001b[39m\"\u001b[39m)\n\u001b[0;32m---> 96\u001b[0m obj \u001b[39m=\u001b[39m AddWithLimits\u001b[39m.\u001b[39m\u001b[39m__new__\u001b[39m(\u001b[39mcls\u001b[39m, function, \u001b[39m*\u001b[39msymbols, \u001b[39m*\u001b[39m\u001b[39m*\u001b[39massumptions)\n\u001b[1;32m     97\u001b[0m \u001b[39mreturn\u001b[39;00m obj\n",
      "File \u001b[0;32m~/anaconda3/lib/python3.11/site-packages/sympy/concrete/expr_with_limits.py:547\u001b[0m, in \u001b[0;36mAddWithLimits.__new__\u001b[0;34m(cls, function, *symbols, **assumptions)\u001b[0m\n\u001b[1;32m    545\u001b[0m \u001b[39mdef\u001b[39;00m \u001b[39m__new__\u001b[39m(\u001b[39mcls\u001b[39m, function, \u001b[39m*\u001b[39msymbols, \u001b[39m*\u001b[39m\u001b[39m*\u001b[39massumptions):\n\u001b[1;32m    546\u001b[0m     \u001b[39mfrom\u001b[39;00m \u001b[39msympy\u001b[39;00m\u001b[39m.\u001b[39;00m\u001b[39mconcrete\u001b[39;00m\u001b[39m.\u001b[39;00m\u001b[39msummations\u001b[39;00m \u001b[39mimport\u001b[39;00m Sum\n\u001b[0;32m--> 547\u001b[0m     pre \u001b[39m=\u001b[39m _common_new(\u001b[39mcls\u001b[39m, function, \u001b[39m*\u001b[39msymbols,\n\u001b[1;32m    548\u001b[0m         discrete\u001b[39m=\u001b[39m\u001b[39missubclass\u001b[39m(\u001b[39mcls\u001b[39m, Sum), \u001b[39m*\u001b[39m\u001b[39m*\u001b[39massumptions)\n\u001b[1;32m    549\u001b[0m     \u001b[39mif\u001b[39;00m \u001b[39misinstance\u001b[39m(pre, \u001b[39mtuple\u001b[39m):\n\u001b[1;32m    550\u001b[0m         function, limits, orientation \u001b[39m=\u001b[39m pre\n",
      "File \u001b[0;32m~/anaconda3/lib/python3.11/site-packages/sympy/concrete/expr_with_limits.py:57\u001b[0m, in \u001b[0;36m_common_new\u001b[0;34m(cls, function, discrete, *symbols, **assumptions)\u001b[0m\n\u001b[1;32m     54\u001b[0m     \u001b[39mreturn\u001b[39;00m S\u001b[39m.\u001b[39mNaN\n\u001b[1;32m     56\u001b[0m \u001b[39mif\u001b[39;00m symbols:\n\u001b[0;32m---> 57\u001b[0m     limits, orientation \u001b[39m=\u001b[39m _process_limits(\u001b[39m*\u001b[39msymbols, discrete\u001b[39m=\u001b[39mdiscrete)\n\u001b[1;32m     58\u001b[0m     \u001b[39mfor\u001b[39;00m i, li \u001b[39min\u001b[39;00m \u001b[39menumerate\u001b[39m(limits):\n\u001b[1;32m     59\u001b[0m         \u001b[39mif\u001b[39;00m \u001b[39mlen\u001b[39m(li) \u001b[39m==\u001b[39m \u001b[39m4\u001b[39m:\n",
      "File \u001b[0;32m~/anaconda3/lib/python3.11/site-packages/sympy/concrete/expr_with_limits.py:194\u001b[0m, in \u001b[0;36m_process_limits\u001b[0;34m(discrete, *symbols)\u001b[0m\n\u001b[1;32m    191\u001b[0m                     limits\u001b[39m.\u001b[39mappend(Tuple(newsymbol, V[\u001b[39m1\u001b[39m]))\n\u001b[1;32m    192\u001b[0m                     \u001b[39mcontinue\u001b[39;00m\n\u001b[0;32m--> 194\u001b[0m     \u001b[39mraise\u001b[39;00m \u001b[39mValueError\u001b[39;00m(\u001b[39m'\u001b[39m\u001b[39mInvalid limits given: \u001b[39m\u001b[39m%s\u001b[39;00m\u001b[39m'\u001b[39m \u001b[39m%\u001b[39m \u001b[39mstr\u001b[39m(symbols))\n\u001b[1;32m    196\u001b[0m \u001b[39mreturn\u001b[39;00m limits, orientation\n",
      "\u001b[0;31mValueError\u001b[0m: Invalid limits given: ((array([-2, -1,  1,  2,  3]), 0, 2),)"
     ]
    }
   ],
   "source": [
    "f = (3/36)*(x-3)**2\n",
    "Mx = sympy.integrate (f*x, (x, 0, 2))\n",
    "Mx"
   ]
  }
 ],
 "metadata": {
  "kernelspec": {
   "display_name": "Python 3 (ipykernel)",
   "language": "python",
   "name": "python3"
  },
  "language_info": {
   "codemirror_mode": {
    "name": "ipython",
    "version": 3
   },
   "file_extension": ".py",
   "mimetype": "text/x-python",
   "name": "python",
   "nbconvert_exporter": "python",
   "pygments_lexer": "ipython3",
   "version": "3.11.5"
  }
 },
 "nbformat": 4,
 "nbformat_minor": 2
}
