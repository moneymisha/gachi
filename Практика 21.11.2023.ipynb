{
 "cells": [
  {
   "cell_type": "code",
   "execution_count": 371,
   "metadata": {},
   "outputs": [],
   "source": [
    "import matplotlib.pyplot as plt\n",
    "import numpy as np\n",
    "import scipy\n",
    "import scipy.linalg as linalg"
   ]
  },
  {
   "cell_type": "code",
   "execution_count": 372,
   "metadata": {},
   "outputs": [],
   "source": [
    "xi = np.array ([2,5,7,10])\n",
    "ni = np.array ([16,12,8,14])"
   ]
  },
  {
   "cell_type": "code",
   "execution_count": 373,
   "metadata": {},
   "outputs": [
    {
     "data": {
      "text/plain": [
       "5.76"
      ]
     },
     "execution_count": 373,
     "metadata": {},
     "output_type": "execute_result"
    }
   ],
   "source": [
    "x1 = xi*ni/(sum(ni)) #выборочное среднее\n",
    "x = sum (x1)\n",
    "x"
   ]
  },
  {
   "cell_type": "markdown",
   "metadata": {},
   "source": [
    "След задача"
   ]
  },
  {
   "cell_type": "code",
   "execution_count": 374,
   "metadata": {},
   "outputs": [],
   "source": [
    "xi = np.array ([0,1,2,3,4])\n",
    "ni = np.array ([132,43,20,3,2])"
   ]
  },
  {
   "cell_type": "code",
   "execution_count": 375,
   "metadata": {},
   "outputs": [
    {
     "data": {
      "text/plain": [
       "0.5"
      ]
     },
     "execution_count": 375,
     "metadata": {},
     "output_type": "execute_result"
    }
   ],
   "source": [
    "x  = sum(xi*ni)/sum(ni) #выборочное среднее\n",
    "x"
   ]
  },
  {
   "cell_type": "markdown",
   "metadata": {},
   "source": [
    "след задача"
   ]
  },
  {
   "cell_type": "code",
   "execution_count": 376,
   "metadata": {},
   "outputs": [],
   "source": [
    "xi = np.array ([37.5, 62.5, 87.5, 112.5, 137.5, 162.5, 187.5, 250, 350])\n",
    "ni = np.array ([1, 3, 6, 7, 7, 5, 4, 8, 4])"
   ]
  },
  {
   "cell_type": "code",
   "execution_count": 377,
   "metadata": {},
   "outputs": [],
   "source": [
    "xb = sum(xi*ni)/sum(ni) #выборочное среднее\n",
    "mas = np.full(len(xi), xb.mean()) #создание массива с одинаковыми элементами (длина массива, его наполнение)\n",
    "db = (1/sum(ni))*sum(ni*(xi - mas)**2) #дисперсия"
   ]
  },
  {
   "cell_type": "code",
   "execution_count": null,
   "metadata": {},
   "outputs": [],
   "source": []
  },
  {
   "cell_type": "markdown",
   "metadata": {},
   "source": [
    "след задача функция лапласса (сделать интеграл функции лапласса)"
   ]
  },
  {
   "cell_type": "code",
   "execution_count": null,
   "metadata": {},
   "outputs": [],
   "source": []
  },
  {
   "cell_type": "markdown",
   "metadata": {},
   "source": [
    "Задание 2. Построить линейную регрессию Х2 от Х1. Найти доверительные интервалы для параметров."
   ]
  },
  {
   "cell_type": "code",
   "execution_count": 378,
   "metadata": {},
   "outputs": [],
   "source": [
    "x1 = np.array ([0.73, 2.59, -2.66, -0.14, 3.82, -0.7, -0.87, 0.55, 4.20, -2.38, -4.57, 0.55, 0.87, 4.45, 3.46, -2.31, 3.86, -1.4, -2.45, 0.08, 0.92, 0.36, 1.29, 4.02, -5.57])\n",
    "x2 = np.array ([0.58, -3.68, 2.39, -0.72, -0.83, 0.45, -1.20, -1.62, -4.50, -0.20, 2.31, 1.15, 1.60, -3.07, -1.20, 3.15, -3.34, 1.71, 1.48, 1.85, -0.02, 0.27, -0.41, -1.59, 1.77])\n",
    "n = len(x1)\n",
    "a = np.sum (x1)\n",
    "y1 = np.sum (x2)"
   ]
  },
  {
   "cell_type": "code",
   "execution_count": 379,
   "metadata": {},
   "outputs": [
    {
     "name": "stdout",
     "output_type": "stream",
     "text": [
      "x: 0.348\n",
      "y: -0.14679999999999996\n",
      "x^2: 185.5308\n"
     ]
    }
   ],
   "source": [
    "xy = np.sum (x1*x2) #X*Y скалярное произведение векторов\n",
    "x  = 1/n*a #x1среднее\n",
    "print(\"x:\",x)\n",
    "\n",
    "y = 1/n*y1 #x2среднее\n",
    "print(\"y:\",y)\n",
    "\n",
    "x22 = np.sum (x1*x1) #скалярный квадрат\n",
    "print(\"x^2:\",x22)"
   ]
  },
  {
   "cell_type": "code",
   "execution_count": 380,
   "metadata": {},
   "outputs": [
    {
     "name": "stdout",
     "output_type": "stream",
     "text": [
      "k: -0.565942570770409\n",
      "b: -11.982246462215265\n"
     ]
    }
   ],
   "source": [
    "k = (xy - n*x*y)/(x22-x**2)\n",
    "print(\"k:\",k)\n",
    "\n",
    "b = (y*xy**2 - xy*x*y)/x22-n*x**2\n",
    "print(\"b:\",b)"
   ]
  },
  {
   "cell_type": "markdown",
   "metadata": {},
   "source": [
    "- Решение СЛАУ"
   ]
  },
  {
   "cell_type": "code",
   "execution_count": 381,
   "metadata": {},
   "outputs": [
    {
     "name": "stdout",
     "output_type": "stream",
     "text": [
      "M:\n",
      "[[-0.44225873  0.76001074 -0.08231859 -0.63709108]\n",
      " [-0.74122198  0.07952953  0.89108471  0.67723084]\n",
      " [ 0.94839194  0.58876677 -0.82571953 -0.08342419]\n",
      " [ 0.7981097   0.35570113  0.24334527  1.81730062]]\n",
      "N:\n",
      "[[-1.26130811]\n",
      " [ 0.88470285]\n",
      " [ 0.15184798]\n",
      " [-0.82023998]]\n"
     ]
    }
   ],
   "source": [
    "M = np.random.randn(4, 4)\n",
    "N = np.random.randn(4, 1)\n",
    "print(\"M:\",M, sep='\\n')\n",
    "print(\"N:\",N, sep='\\n')"
   ]
  },
  {
   "cell_type": "markdown",
   "metadata": {},
   "source": [
    "Найдём ранг совместной матрицы"
   ]
  },
  {
   "cell_type": "code",
   "execution_count": 382,
   "metadata": {},
   "outputs": [
    {
     "name": "stdout",
     "output_type": "stream",
     "text": [
      "Ранг совместной матрицы:\n",
      "4\n"
     ]
    }
   ],
   "source": [
    "matrix = np.hstack ([M,N]) #совместная матрица\n",
    "r = np.linalg.matrix_rank(matrix)\n",
    "print (\"Ранг совместной матрицы:\", r, sep='\\n')"
   ]
  },
  {
   "cell_type": "markdown",
   "metadata": {},
   "source": [
    "1) Решение СЛАУ"
   ]
  },
  {
   "cell_type": "code",
   "execution_count": 383,
   "metadata": {},
   "outputs": [
    {
     "data": {
      "text/plain": [
       "array([[ 85.57740823],\n",
       "       [ 13.58099071],\n",
       "       [113.43691281],\n",
       "       [-55.88261419]])"
      ]
     },
     "execution_count": 383,
     "metadata": {},
     "output_type": "execute_result"
    }
   ],
   "source": [
    "np.linalg.solve(M, N)"
   ]
  },
  {
   "cell_type": "markdown",
   "metadata": {},
   "source": [
    "2. Построим LU разложение"
   ]
  },
  {
   "cell_type": "code",
   "execution_count": 384,
   "metadata": {},
   "outputs": [
    {
     "name": "stdout",
     "output_type": "stream",
     "text": [
      "L:\n",
      "[[0. 1. 0. 0.]\n",
      " [0. 0. 0. 1.]\n",
      " [1. 0. 0. 0.]\n",
      " [0. 0. 1. 0.]]\n",
      "U:\n",
      "[[ 1.          0.          0.          0.        ]\n",
      " [-0.46632485  1.          0.          0.        ]\n",
      " [ 0.84153995 -0.1350996   1.          0.        ]\n",
      " [-0.7815566   0.52165198  0.55942778  1.        ]]\n"
     ]
    }
   ],
   "source": [
    "L, U, P = scipy.linalg.lu (M) #где P - матрица перестановки\n",
    "print (\"L:\", L, sep='\\n')\n",
    "print (\"U:\", U, sep='\\n')"
   ]
  },
  {
   "cell_type": "markdown",
   "metadata": {},
   "source": [
    "2. Построим QR разложение"
   ]
  },
  {
   "cell_type": "code",
   "execution_count": 385,
   "metadata": {},
   "outputs": [
    {
     "name": "stdout",
     "output_type": "stream",
     "text": [
      "Q:\n",
      "[[-0.29280124  0.85993772  0.19629405  0.36911137]\n",
      " [-0.49073247  0.22833659 -0.57015134 -0.61803843]\n",
      " [ 0.62789115  0.40916351  0.2758518  -0.60186686]\n",
      " [ 0.52839548  0.20237278 -0.74853315  0.34574787]]\n",
      "R:\n",
      "[[ 1.51044006  0.2960725  -0.80306066  0.76207403]\n",
      " [ 0.          0.98460751 -0.15592946 -0.05958402]\n",
      " [ 0.          0.         -0.93414001 -1.89450374]\n",
      " [ 0.          0.          0.          0.02482583]]\n"
     ]
    }
   ],
   "source": [
    "Q, R = linalg.qr(M)\n",
    "print (\"Q:\", Q, sep='\\n')\n",
    "print (\"R:\", R, sep='\\n')"
   ]
  },
  {
   "cell_type": "markdown",
   "metadata": {},
   "source": [
    "3. Найти собственное значение "
   ]
  },
  {
   "cell_type": "code",
   "execution_count": 389,
   "metadata": {},
   "outputs": [
    {
     "name": "stdout",
     "output_type": "stream",
     "text": [
      "Собственные значения:\n",
      "[ 1.87428412+0.j         -0.63328801+0.68500749j -0.63328801-0.68500749j\n",
      "  0.02114382+0.j        ]\n",
      "Собственные векторы:\n",
      "[[-0.11900731+0.j          0.40447578+0.38355811j  0.40447578-0.38355811j\n",
      "   0.55666964+0.j        ]\n",
      " [ 0.40057891+0.j         -0.44753582+0.12781815j -0.44753582-0.12781815j\n",
      "   0.10994985+0.j        ]\n",
      " [ 0.01748333+0.j          0.66128397+0.j          0.66128397-0.j\n",
      "   0.73618501+0.j        ]\n",
      " [ 0.90833261+0.j         -0.08564097-0.16740925j -0.08564097+0.16740925j\n",
      "  -0.36886527+0.j        ]]\n"
     ]
    }
   ],
   "source": [
    "evalue, evect = np.linalg.eig(M)\n",
    "print (\"Собственные значения:\", evalue, sep='\\n')\n",
    "print (\"Собственные векторы:\", evect, sep='\\n')"
   ]
  },
  {
   "cell_type": "markdown",
   "metadata": {},
   "source": [
    "4*. Нормированные собственные векторы"
   ]
  },
  {
   "cell_type": "markdown",
   "metadata": {},
   "source": [
    "a) найдем норму векторов"
   ]
  },
  {
   "cell_type": "code",
   "execution_count": 393,
   "metadata": {},
   "outputs": [
    {
     "name": "stdout",
     "output_type": "stream",
     "text": [
      "Норма вектора 1:\n",
      "1.0\n",
      "Норма вектора 2:\n",
      "0.9999999999999999\n",
      "Норма вектора 3:\n",
      "0.9999999999999999\n",
      "Норма вектора 4:\n",
      "1.0\n"
     ]
    }
   ],
   "source": [
    "nv1 = np.linalg.norm (evect[:,0])\n",
    "nv2 = np.linalg.norm (evect[:,1])\n",
    "nv3 = np.linalg.norm (evect[:,2])\n",
    "nv4 = np.linalg.norm (evect[:,3])\n",
    "\n",
    "print (\"Норма вектора 1:\", nv1, sep='\\n')\n",
    "print (\"Норма вектора 2:\", nv2, sep='\\n')\n",
    "print (\"Норма вектора 3:\", nv3, sep='\\n')\n",
    "print (\"Норма вектора 4:\", nv4, sep='\\n')"
   ]
  },
  {
   "cell_type": "markdown",
   "metadata": {},
   "source": [
    "б) отнормируем собственные векторы"
   ]
  },
  {
   "cell_type": "code",
   "execution_count": 410,
   "metadata": {},
   "outputs": [
    {
     "data": {
      "text/plain": [
       "array([[-0.11900731+0.j        ,  0.40447578+0.38355811j,\n",
       "         0.40447578-0.38355811j,  0.55666964+0.j        ],\n",
       "       [ 0.40057891+0.j        , -0.44753582+0.12781815j,\n",
       "        -0.44753582-0.12781815j,  0.10994985+0.j        ],\n",
       "       [ 0.01748333+0.j        ,  0.66128397+0.j        ,\n",
       "         0.66128397-0.j        ,  0.73618501+0.j        ],\n",
       "       [ 0.90833261+0.j        , -0.08564097-0.16740925j,\n",
       "        -0.08564097+0.16740925j, -0.36886527+0.j        ]])"
      ]
     },
     "execution_count": 410,
     "metadata": {},
     "output_type": "execute_result"
    }
   ],
   "source": [
    "a = evect[:,0]\n",
    "b = evect[:,1]\n",
    "c = evect[:,2]\n",
    "d = evect[:,3]\n",
    "\n",
    "a1 = a/nv1\n",
    "b1 = b/nv2\n",
    "c1 = c/nv3\n",
    "d1 = d/nv4\n",
    "\n",
    "matrix1 = np.array ([a1, b1, c1, d1])\n",
    "matrix1\n",
    "matrix2 = np.transpose(matrix1)\n",
    "matrix2"
   ]
  },
  {
   "cell_type": "code",
   "execution_count": 412,
   "metadata": {},
   "outputs": [
    {
     "data": {
      "text/plain": [
       "array([[1, 3, 5],\n",
       "       [3, 1, 5],\n",
       "       [5, 5, 1]])"
      ]
     },
     "execution_count": 412,
     "metadata": {},
     "output_type": "execute_result"
    }
   ],
   "source": [
    "A = np.array ([[1,3,5],[3,1,5],[5,5,1]])\n",
    "A"
   ]
  },
  {
   "cell_type": "code",
   "execution_count": 413,
   "metadata": {},
   "outputs": [
    {
     "name": "stdout",
     "output_type": "stream",
     "text": [
      "Собственные значения:\n",
      "[ 9.72841615 -2.         -4.72841615]\n",
      "Собственные векторы:\n",
      "[[-5.49434787e-01 -7.07106781e-01 -4.45108319e-01]\n",
      " [-5.49434787e-01  7.07106781e-01 -4.45108319e-01]\n",
      " [-6.29478221e-01  1.26858383e-17  7.77018127e-01]]\n"
     ]
    }
   ],
   "source": [
    "evalue, evect = np.linalg.eig(A)\n",
    "print (\"Собственные значения:\", evalue, sep='\\n')\n",
    "print (\"Собственные векторы:\", evect, sep='\\n')"
   ]
  },
  {
   "cell_type": "code",
   "execution_count": 426,
   "metadata": {},
   "outputs": [
    {
     "data": {
      "text/plain": [
       "array([[-5.49434787e-01, -7.07106781e-01, -4.45108319e-01],\n",
       "       [-5.49434787e-01,  7.07106781e-01, -4.45108319e-01],\n",
       "       [-6.29478221e-01,  1.26858383e-17,  7.77018127e-01]])"
      ]
     },
     "execution_count": 426,
     "metadata": {},
     "output_type": "execute_result"
    }
   ],
   "source": [
    "a = evect[:,0]\n",
    "b = evect[:,1]\n",
    "c = evect[:,2]\n",
    "\n",
    "a1 = a/nv1\n",
    "b1 = b/nv2\n",
    "c1 = c/nv3\n",
    "\n",
    "matrix1 = np.transpose (np.array ([a1, b1, c1]))\n",
    "matrix1\n",
    "\n"
   ]
  }
 ],
 "metadata": {
  "kernelspec": {
   "display_name": "Python 3",
   "language": "python",
   "name": "python3"
  },
  "language_info": {
   "codemirror_mode": {
    "name": "ipython",
    "version": 3
   },
   "file_extension": ".py",
   "mimetype": "text/x-python",
   "name": "python",
   "nbconvert_exporter": "python",
   "pygments_lexer": "ipython3",
   "version": "3.11.5"
  }
 },
 "nbformat": 4,
 "nbformat_minor": 2
}
