{
 "cells": [
  {
   "cell_type": "markdown",
   "metadata": {},
   "source": []
  },
  {
   "cell_type": "code",
   "execution_count": 53,
   "metadata": {},
   "outputs": [],
   "source": [
    "import matplotlib as mpl\n",
    "import matplotlib.pyplot as plt\n",
    "from mpl_toolkits.mplot3d.axes3d import Axes3D\n",
    "import numpy as np\n",
    "import sympy as sy\n",
    "from sympy import diff\n",
    "import matplotlib.pyplot as plt"
   ]
  },
  {
   "cell_type": "code",
   "execution_count": 139,
   "metadata": {},
   "outputs": [
    {
     "data": {
      "text/latex": [
       "$\\displaystyle 16.0$"
      ],
      "text/plain": [
       "16.0000000000000"
      ]
     },
     "execution_count": 139,
     "metadata": {},
     "output_type": "execute_result"
    }
   ],
   "source": [
    "\n",
    "\n",
    "x = np.array ([-1,0, 1, 2, 3, 4])\n",
    "y = np.array ([0,2, 3, 3.5, 3, 4.5])\n",
    "x2 = x**2\n",
    "xy =x*y\n",
    "\n",
    "A1 = np.sum (x2)\n",
    "B1 = np.sum (x)\n",
    "A2 = np.sum (x)\n",
    "B2 = len (x)\n",
    "C1 = np.sum (xy)\n",
    "C2 = np.sum (y)\n",
    "\n",
    "x_var = sy.symbols(\"a, b\")\n",
    "M = sy.Matrix ([[A1, B1], [A2, B2]])\n",
    "x1 = sy.Matrix(x_var)\n",
    "N = sy.Matrix ([[C1], [C2]])\n",
    "sy.solve (M*x1-N, x_var)\n",
    "\n",
    "X1 = M.solve(N)\n",
    "\n",
    "s1 = np.sum (X1[0]*x+X1[1])\n",
    "s1\n",
    "\n"
   ]
  }
 ],
 "metadata": {
  "kernelspec": {
   "display_name": "Python 3 (ipykernel)",
   "language": "python",
   "name": "python3"
  }
 },
 "nbformat": 4,
 "nbformat_minor": 2
}
