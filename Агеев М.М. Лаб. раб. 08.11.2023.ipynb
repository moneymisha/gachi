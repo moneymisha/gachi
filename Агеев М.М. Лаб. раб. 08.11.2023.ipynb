{
 "cells": [
  {
   "cell_type": "markdown",
   "metadata": {},
   "source": [
    "Кронекеровское произведение\n",
    "import numpy as np\n",
    "np.kron (AB)"
   ]
  },
  {
   "cell_type": "code",
   "execution_count": 37,
   "metadata": {},
   "outputs": [
    {
     "data": {
      "text/plain": [
       "array([[1., 0., 1., 0.],\n",
       "       [0., 1., 0., 1.],\n",
       "       [1., 0., 1., 0.],\n",
       "       [0., 1., 0., 1.]])"
      ]
     },
     "execution_count": 37,
     "metadata": {},
     "output_type": "execute_result"
    }
   ],
   "source": [
    "np.kron (np.ones((2,2)), np.identity(2))"
   ]
  },
  {
   "cell_type": "markdown",
   "metadata": {},
   "source": [
    "Sympy библиотека"
   ]
  },
  {
   "cell_type": "code",
   "execution_count": 6,
   "metadata": {},
   "outputs": [
    {
     "data": {
      "text/latex": [
       "$\\displaystyle \\left[\\begin{matrix}1 & 2\\\\3 & 4\\end{matrix}\\right]$"
      ],
      "text/plain": [
       "⎡1  2⎤\n",
       "⎢    ⎥\n",
       "⎣3  4⎦"
      ]
     },
     "execution_count": 6,
     "metadata": {},
     "output_type": "execute_result"
    }
   ],
   "source": [
    "import sympy\n",
    "import numpy as np\n",
    "sympy.init_printing()\n",
    "sympy.Matrix([1,2])\n",
    "M = sympy.Matrix([[1,2],[3,4]])\n",
    "M"
   ]
  },
  {
   "cell_type": "markdown",
   "metadata": {},
   "source": [
    "Задание 1"
   ]
  },
  {
   "cell_type": "code",
   "execution_count": 7,
   "metadata": {},
   "outputs": [
    {
     "data": {
      "text/latex": [
       "$\\displaystyle \\left[\\begin{matrix}3.5 & 14.0 & 0.5 & -2.0\\\\7.0 & 21.0 & 0 & -1.0\\\\3.5 & 14.0 & -0.5 & 4.0\\\\3.5 & 21.0 & 0.5 & 0\\end{matrix}\\right]$"
      ],
      "text/plain": [
       "⎡3.5  14.0  0.5   -2.0⎤\n",
       "⎢                     ⎥\n",
       "⎢7.0  21.0   0    -1.0⎥\n",
       "⎢                     ⎥\n",
       "⎢3.5  14.0  -0.5  4.0 ⎥\n",
       "⎢                     ⎥\n",
       "⎣3.5  21.0  0.5    0  ⎦"
      ]
     },
     "execution_count": 7,
     "metadata": {},
     "output_type": "execute_result"
    }
   ],
   "source": [
    "e1 = np.array([1,2,-1,-2])\n",
    "e2 = np.array([2,3,0,-1])\n",
    "e3 = np.array([1,2,1,4])\n",
    "e4 = np.array([1,3,-1,0])\n",
    "matrix_solution = np.vstack ([e1, e2, e3, e4]) #объединили в 1 по строкам\n",
    "matrix = np.transpose (matrix_solution) #матрица, объединенная в 1 \n",
    "matrix_tr = np.transpose (matrix) #транспонированная\n",
    "matrix_tr\n",
    "det = np.linalg.det(matrix) #детерм\n",
    "matrix_inv = (1/det)*matrix_tr #обратная\n",
    "X = np.array([7,14,-1,2])\n",
    "X1 = matrix_inv*X\n",
    "Result = sympy.Matrix(X1)\n",
    "Result"
   ]
  },
  {
   "cell_type": "markdown",
   "metadata": {},
   "source": [
    "Задание 2"
   ]
  },
  {
   "cell_type": "code",
   "execution_count": 36,
   "metadata": {},
   "outputs": [
    {
     "name": "stdout",
     "output_type": "stream",
     "text": [
      "Размерность матрицы: (6, 6)\n"
     ]
    }
   ],
   "source": [
    "matrix = np.array([[0,1,0,0,0,0],[1,0,0,0,0,0],[0,0,0, complex(0,-1),0,0],[0,0,complex(0,1),0,0,0],[0,0,0,0,1,0],[0,0,0,0,0,-1]], dtype = complex)\n",
    "#найдём определитель матрицы, если определитель не равен нулю, то матрицы образуют базис\n",
    "det = np.linalg.det(matrix)\n",
    "det\n",
    "#определительне равен нулю\n",
    "#найдём размерность\n",
    "a = matrix.shape\n",
    "print (\"Размерность матрицы:\", a)"
   ]
  }
 ],
 "metadata": {
  "kernelspec": {
   "display_name": "Python 3 (ipykernel)",
   "language": "python",
   "name": "python3"
  },
  "language_info": {
   "codemirror_mode": {
    "name": "ipython",
    "version": 3
   },
   "file_extension": ".py",
   "mimetype": "text/x-python",
   "name": "python",
   "nbconvert_exporter": "python",
   "pygments_lexer": "ipython3",
   "version": "3.11.5"
  }
 },
 "nbformat": 4,
 "nbformat_minor": 2
}
