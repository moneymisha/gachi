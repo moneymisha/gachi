{
 "cells": [
  {
   "cell_type": "code",
   "execution_count": 2,
   "metadata": {},
   "outputs": [],
   "source": [
    "import numpy as np\n",
    "import sympy as sy\n",
    "import matplotlib.pyplot as plt"
   ]
  },
  {
   "cell_type": "code",
   "execution_count": 18,
   "metadata": {},
   "outputs": [
    {
     "name": "stdout",
     "output_type": "stream",
     "text": [
      "[0.3 0.5 0.7]\n",
      "4.08\n",
      "4.08\n"
     ]
    }
   ],
   "source": [
    "Pi = np.array([[0.16, 0.12, 0.8], [0.3, 0.5, 0.7]])\n",
    "x = np.array ([1,2])\n",
    "y = np.array ([1,2,3])\n",
    "\n",
    "a = Pi[1,:]\n",
    "print (a)\n",
    "\n",
    "Mx = []\n",
    "My = []\n",
    "\n",
    "for i in range(0,3):\n",
    "    Mx = sum(Pi[0,:]* x[0]) + sum (Pi[1,:]*x[1])\n",
    "print (Mx)\n",
    "\n",
    "for i in range(0,3):\n",
    "    My = sum(Pi[0,:]* x[0]) + sum(Pi[1,:]*x[1])\n",
    "print (My)"
   ]
  }
 ],
 "metadata": {
  "kernelspec": {
   "display_name": "base",
   "language": "python",
   "name": "python3"
  },
  "language_info": {
   "codemirror_mode": {
    "name": "ipython",
    "version": 3
   },
   "file_extension": ".py",
   "mimetype": "text/x-python",
   "name": "python",
   "nbconvert_exporter": "python",
   "pygments_lexer": "ipython3",
   "version": "3.11.5"
  },
  "orig_nbformat": 4
 },
 "nbformat": 4,
 "nbformat_minor": 2
}
