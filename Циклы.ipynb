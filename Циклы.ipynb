{
 "cells": [
  {
   "cell_type": "code",
   "execution_count": 2,
   "metadata": {},
   "outputs": [],
   "source": [
    "import numpy as np\n",
    "import sympy as sy\n",
    "import matplotlib.pyplot as plt"
   ]
  },
  {
   "cell_type": "code",
   "execution_count": 40,
   "metadata": {},
   "outputs": [
    {
     "name": "stdout",
     "output_type": "stream",
     "text": [
      "1.6400000000000001\n",
      "1.8900000000000001\n"
     ]
    }
   ],
   "source": [
    "Pi = np.array([[0.16, 0.12, 0.08], [0.28, 0.11, 0.25]])\n",
    "x = np.array ([1,2])\n",
    "y = np.array ([1,2,3])\n",
    "\n",
    "Mx = 0\n",
    "\n",
    "for i in range (0,2):\n",
    "    for j in range (0,3):\n",
    "        Mx += x[i] * Pi[i,j]\n",
    "\n",
    "My = 0\n",
    "\n",
    "for i in range(0,2):\n",
    "    for j in range (0,3):\n",
    "        My += y[j] * Pi[i,j]\n",
    "\n",
    "print (Mx)\n",
    "print (My)"
   ]
  },
  {
   "cell_type": "code",
   "execution_count": null,
   "metadata": {},
   "outputs": [],
   "source": []
  }
 ],
 "metadata": {
  "kernelspec": {
   "display_name": "base",
   "language": "python",
   "name": "python3"
  },
  "language_info": {
   "codemirror_mode": {
    "name": "ipython",
    "version": 3
   },
   "file_extension": ".py",
   "mimetype": "text/x-python",
   "name": "python",
   "nbconvert_exporter": "python",
   "pygments_lexer": "ipython3",
   "version": "3.11.5"
  },
  "orig_nbformat": 4
 },
 "nbformat": 4,
 "nbformat_minor": 2
}
